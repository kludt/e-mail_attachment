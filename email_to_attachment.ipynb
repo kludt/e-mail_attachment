{
 "cells": [
  {
   "cell_type": "markdown",
   "metadata": {},
   "source": [
    "### Task:\n",
    "Write a program which extracts the attachment from the provided email, and saves every row of that attachment as a new json-file."
   ]
  },
  {
   "cell_type": "code",
   "execution_count": 1,
   "metadata": {},
   "outputs": [],
   "source": [
    "import email\n",
    "import os\n",
    "import pandas as pd\n",
    "import json"
   ]
  },
  {
   "cell_type": "code",
   "execution_count": 2,
   "metadata": {},
   "outputs": [],
   "source": [
    "class Attachments():\n",
    "    def __init__(self, name):\n",
    "        pass\n",
    "    \n",
    "    def open_email(self):\n",
    "        pass\n",
    "    \n",
    "    def get_attachment(self):\n",
    "        pass\n",
    "    \n",
    "    def load_attachment(self):\n",
    "        pass\n",
    "                \n",
    "    def row_to_json(self):\n",
    "        pass\n",
    "    \n",
    "    def json_to_file(self):\n",
    "        pass\n",
    "    \n",
    "    def run(self):\n",
    "        pass"
   ]
  },
  {
   "cell_type": "code",
   "execution_count": 3,
   "metadata": {},
   "outputs": [],
   "source": [
    "import unittest\n",
    "\n",
    "class Test(unittest.TestCase):\n",
    "    def setUp(self):\n",
    "        \"\"\"\n",
    "        Loading needed files for tests.\n",
    "        \"\"\"\n",
    "        self.test_class = Attachments('testmail')\n",
    "        self.test_class.run()\n",
    "        \n",
    "        self.df = pd.read_excel('data/test_df.xlsx')\n",
    "        self.json_files = [\n",
    "            '{\"level\":\"error\",\"Column 1\":\"blabla 1\",\"Column 2\":\"blabla 2\",\"Column 3\":\"blabla 3\",\"Column 4\":\"blabla 4\",\"Column 5\":\"blabla 5\",\"Column 6\":\"blabla 6\",\"Column 7\":100,\"Column 8\":1,\"Column 9\":0}',\n",
    "            '{\"level\":\"error\",\"Column 1\":\"blabla 1\",\"Column 2\":\"blabla 2\",\"Column 3\":\"blabla 3\",\"Column 4\":\"blabla 4\",\"Column 5\":\"blabla 5\",\"Column 6\":\"blabla 6\",\"Column 7\":100,\"Column 8\":2,\"Column 9\":0}',\n",
    "            '{\"level\":\"error\",\"Column 1\":\"blabla 1\",\"Column 2\":\"blabla 2\",\"Column 3\":\"blabla 3\",\"Column 4\":\"blabla 4\",\"Column 5\":\"blabla 5\",\"Column 6\":\"blabla 6\",\"Column 7\":100,\"Column 8\":3,\"Column 9\":0}',\n",
    "            '{\"level\":\"error\",\"Column 1\":\"blabla 1\",\"Column 2\":\"blabla 2\",\"Column 3\":\"blabla 3\",\"Column 4\":\"blabla 4\",\"Column 5\":\"blabla 5\",\"Column 6\":\"blabla 6\",\"Column 7\":100,\"Column 8\":4,\"Column 9\":0}'\n",
    "        ]\n",
    "        \n",
    "    def test_open_email(self):\n",
    "        \"\"\"\n",
    "        Check if open_email returns data typ email\n",
    "        \"\"\"\n",
    "        self.assertIsInstance(self.test_class.open_email(), email.message.Message)\n",
    "        \n",
    "    def test_get_attachment(self):\n",
    "        \"\"\"\n",
    "        Check if attachment gets saved.\n",
    "        Check if get_attachment returns correct attachment name.\n",
    "        \"\"\"\n",
    "        assert os.path.exists('data/testdata.xlsx') == 1\n",
    "        self.assertTrue('testdata.xlsx', self.test_class.get_attachment())\n",
    "        \n",
    "    def test_load_attachment(self):\n",
    "        \"\"\"\n",
    "        Check if function loads a df.\n",
    "        \"\"\"\n",
    "        self.assertIsInstance(self.test_class.load_attachment(), pd.core.frame.DataFrame)\n",
    "        \n",
    "    def test_row_to_json(self):\n",
    "        \"\"\"\n",
    "        Check if length of df and number of json files in list are identical.\n",
    "        Check if return of row_to_json is list.\n",
    "        \"\"\"\n",
    "        self.assertEqual(len(self.df), len(self.test_class.row_to_json()))\n",
    "        self.assertIsInstance(self.test_class.row_to_json(), list)\n",
    "        \n",
    "    def test_json_to_file(self):\n",
    "        \"\"\"\n",
    "        Check if files are saved/saved under correct name.\n",
    "        \"\"\"\n",
    "        assert os.path.exists('data/json/0.json') == 1\n",
    "        assert os.path.exists('data/json/1.json') == 1\n",
    "        assert os.path.exists('data/json/2.json') == 1\n",
    "        assert os.path.exists('data/json/3.json') == 1 "
   ]
  },
  {
   "cell_type": "code",
   "execution_count": 4,
   "metadata": {
    "scrolled": true
   },
   "outputs": [
    {
     "name": "stderr",
     "output_type": "stream",
     "text": [
      "FFFFE\n",
      "======================================================================\n",
      "ERROR: test_row_to_json (__main__.Test)\n",
      "----------------------------------------------------------------------\n",
      "Traceback (most recent call last):\n",
      "  File \"<ipython-input-3-46669304ca63>\", line 44, in test_row_to_json\n",
      "    self.assertEqual(len(self.df), len(self.test_class.row_to_json()))\n",
      "TypeError: object of type 'NoneType' has no len()\n",
      "\n",
      "======================================================================\n",
      "FAIL: test_get_attachment (__main__.Test)\n",
      "----------------------------------------------------------------------\n",
      "Traceback (most recent call last):\n",
      "  File \"<ipython-input-3-46669304ca63>\", line 30, in test_get_attachment\n",
      "    assert os.path.exists('data/testdata.xlsx') == 1\n",
      "AssertionError\n",
      "\n",
      "======================================================================\n",
      "FAIL: test_json_to_file (__main__.Test)\n",
      "----------------------------------------------------------------------\n",
      "Traceback (most recent call last):\n",
      "  File \"<ipython-input-3-46669304ca63>\", line 51, in test_json_to_file\n",
      "    assert os.path.exists('data/json/0.json') == 1\n",
      "AssertionError\n",
      "\n",
      "======================================================================\n",
      "FAIL: test_load_attachment (__main__.Test)\n",
      "----------------------------------------------------------------------\n",
      "Traceback (most recent call last):\n",
      "  File \"<ipython-input-3-46669304ca63>\", line 37, in test_load_attachment\n",
      "    self.assertIsInstance(self.test_class.load_attachment(), pd.core.frame.DataFrame)\n",
      "AssertionError: None is not an instance of <class 'pandas.core.frame.DataFrame'>\n",
      "\n",
      "======================================================================\n",
      "FAIL: test_open_email (__main__.Test)\n",
      "----------------------------------------------------------------------\n",
      "Traceback (most recent call last):\n",
      "  File \"<ipython-input-3-46669304ca63>\", line 23, in test_open_email\n",
      "    self.assertIsInstance(self.test_class.open_email(), email.message.Message)\n",
      "AssertionError: None is not an instance of <class 'email.message.Message'>\n",
      "\n",
      "----------------------------------------------------------------------\n",
      "Ran 5 tests in 0.062s\n",
      "\n",
      "FAILED (failures=4, errors=1)\n"
     ]
    }
   ],
   "source": [
    "if __name__ == '__main__':\n",
    "    unittest.main(argv=['first-arg-is-ignored'], exit=False)"
   ]
  },
  {
   "cell_type": "code",
   "execution_count": 5,
   "metadata": {},
   "outputs": [],
   "source": [
    "class Attachments():\n",
    "    def __init__(self, name):\n",
    "        self.mail_name = name\n",
    "        \n",
    "    def open_email(self):\n",
    "        with open('data/%s.eml' %self.mail_name, 'r') as msg:\n",
    "            self.mail = email.message_from_file(msg)\n",
    "        return self.mail\n",
    "\n",
    "    def get_attachment(self):\n",
    "        for part in self.mail.walk():\n",
    "            # if the part is the text\n",
    "            if part.get_content_maintype() == 'multipart':\n",
    "                # print(part)\n",
    "                continue\n",
    "            # if there is no attachment\n",
    "            if part.get('Content-Disposition') is None:\n",
    "                # print(part)\n",
    "                continue\n",
    "            self.file_name = part.get_filename()\n",
    "            \n",
    "            if bool(self.file_name): # if file_name is not None\n",
    "                file_path = 'data/%s' % self.file_name\n",
    "                if not os.path.isfile(file_path):\n",
    "                    fp = open(file_path, 'wb')\n",
    "                    fp.write(part.get_payload(decode=True))\n",
    "                    fp.close()\n",
    "                return self.file_name\n",
    "                \n",
    "    def load_attachment(self):\n",
    "        self.df = pd.read_excel('data/%s' % self.file_name)\n",
    "        return self.df\n",
    "                \n",
    "    def row_to_json(self):\n",
    "        self.json_files = []\n",
    "        for row in range(len(self.df)):\n",
    "            self.json_files.append(self.df.iloc[row,:].to_json())\n",
    "        return self.json_files\n",
    "    \n",
    "    def json_to_file(self):\n",
    "        for file in range(len(self.json_files)):\n",
    "            with open('data/json/%i.json' % file, 'w') as outfile:\n",
    "                json.dump(self.json_files[file], outfile)\n",
    "                \n",
    "    def run(self):\n",
    "        self.open_email()\n",
    "        self.get_attachment()\n",
    "        self.load_attachment()\n",
    "        self.row_to_json()\n",
    "        self.json_to_file()"
   ]
  },
  {
   "cell_type": "code",
   "execution_count": 6,
   "metadata": {},
   "outputs": [
    {
     "name": "stderr",
     "output_type": "stream",
     "text": [
      ".....\n",
      "----------------------------------------------------------------------\n",
      "Ran 5 tests in 0.141s\n",
      "\n",
      "OK\n"
     ]
    }
   ],
   "source": [
    "if __name__ == '__main__':\n",
    "    unittest.main(argv=['first-arg-is-ignored'], exit=False)"
   ]
  },
  {
   "cell_type": "markdown",
   "metadata": {},
   "source": [
    "### Fulfill task"
   ]
  },
  {
   "cell_type": "code",
   "execution_count": 7,
   "metadata": {},
   "outputs": [],
   "source": [
    "Attachments('testmail').run()"
   ]
  },
  {
   "cell_type": "code",
   "execution_count": 8,
   "metadata": {},
   "outputs": [],
   "source": [
    "with open('data/json/0.json', 'r') as outfile:  \n",
    "    json_file0 = json.load(outfile)"
   ]
  },
  {
   "cell_type": "code",
   "execution_count": 9,
   "metadata": {},
   "outputs": [
    {
     "name": "stdout",
     "output_type": "stream",
     "text": [
      "{\"level\":\"error\",\"Column 1\":\"blabla 1\",\"Column 2\":\"blabla 2\",\"Column 3\":\"blabla 3\",\"Column 4\":\"blabla 4\",\"Column 5\":\"blabla 5\",\"Column 6\":\"blabla 6\",\"Column 7\":100,\"Column 8\":1,\"Column 9\":0}\n"
     ]
    }
   ],
   "source": [
    "print(json_file0)"
   ]
  },
  {
   "cell_type": "markdown",
   "metadata": {},
   "source": [
    "# To-Do\n",
    "- change code so that a directory can be input instead of an email name, so that more than one email can be processed\n",
    "- change code so that more than emails with more than one attachments can be processed\n",
    "- change code so that different attachments (e.g. .csv, excel) can be processed"
   ]
  }
 ],
 "metadata": {
  "kernelspec": {
   "display_name": "Python 3",
   "language": "python",
   "name": "python3"
  },
  "language_info": {
   "codemirror_mode": {
    "name": "ipython",
    "version": 3
   },
   "file_extension": ".py",
   "mimetype": "text/x-python",
   "name": "python",
   "nbconvert_exporter": "python",
   "pygments_lexer": "ipython3",
   "version": "3.7.0"
  }
 },
 "nbformat": 4,
 "nbformat_minor": 2
}
